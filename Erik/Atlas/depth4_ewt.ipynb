{
 "cells": [
  {
   "cell_type": "code",
   "execution_count": 3,
   "metadata": {},
   "outputs": [],
   "source": [
    "from src.pocketpartition.core.numerical_semigroup import NumericalSemigroup\n",
    "from src.pocketpartition.core.random_numerical import RandomNumericalSemigroupWithGenus\n",
    "from src.pocketpartition.core.partition import Partition\n",
    "from src.pocketpartition.core.numerical_functions import get_partition, get_gap_poset, get_void_poset\n",
    "from src.pocketpartition.visualization.tex import generate_content_pages, wrap_with_headers_footers, wrap_with_section, generate_partition_page\n",
    "from src.pocketpartition.visualization.tikz import generate_latex_table, generate_ferrers_tikz\n",
    "from src.pocketpartition.core.genus import WithGenus, WithMaxGenus\n",
    "\n",
    "from math import floor"
   ]
  },
  {
   "cell_type": "code",
   "execution_count": 7,
   "metadata": {},
   "outputs": [],
   "source": [
    "def get_genus(lst, g):\n",
    "    return [item for item in lst if (item.genus == g)]\n",
    "\n",
    "def get_best_ewt(lst):\n",
    "    depth_3 = [item for item in lst if item.depth() == 4]\n",
    "    ewts = [item.effective_weight() for item in depth_3]\n",
    "    return [item for item in depth_3 if (item.effective_weight() == max(ewts))]"
   ]
  },
  {
   "cell_type": "code",
   "execution_count": 9,
   "metadata": {},
   "outputs": [],
   "source": [
    "max_g = 22\n",
    "samples = WithMaxGenus(max_g)\n",
    "best_cases = []\n",
    "for g in range(max_g):\n",
    "    best_cases += get_best_ewt(get_genus(samples, g))"
   ]
  },
  {
   "cell_type": "code",
   "execution_count": 10,
   "metadata": {},
   "outputs": [],
   "source": [
    "def get_info(S):\n",
    "    subsections =[ {'title': 'Invariants'}, {'title': 'Partition'}, {'title': 'Gap Poset'}, {'title': 'Void Poset'}]\n",
    "    data = {'g': len(S.gaps), 'F': S.frobenius_number, 'm': S.multiplicity(), 'ewt': S.effective_weight(), 't': S.type(), '\\\\(|M|\\\\)': len(S.void()), '\\\\(|\\\\lambda|\\\\)': sum(S.partition())}\n",
    "    partition = get_partition(S)\n",
    "    gap_poset = get_gap_poset(S)\n",
    "    void_poset = get_void_poset(S)\n",
    "    gap_input = (gap_poset.elements, gap_poset.cover_relations())\n",
    "    void_input = (void_poset.elements, void_poset.cover_relations())\n",
    "    return generate_content_pages(f\"{S.minimal_generating_set()}\", subsections, data, partition.hook_lengths(), gap_input, void_input)\n",
    "\n",
    "def get_info_minimal(S):\n",
    "    partition = get_partition(S)\n",
    "    return generate_partition_page(f\"{S.minimal_generating_set()}\", partition.hook_lengths(), size=0.2, hooks=False)\n",
    "\n",
    "def make_document(doc_name:str, format_func, semigroups:list[NumericalSemigroup]):\n",
    "    document = ''\n",
    "    for semigroup in semigroups:\n",
    "        document += '\\\\newpage'\n",
    "        document += format_func(semigroup)\n",
    "    final = wrap_with_headers_footers(document)\n",
    "    with open(f\"{doc_name}.tex\", \"w\") as file:\n",
    "        file.write(final)"
   ]
  },
  {
   "cell_type": "code",
   "execution_count": 11,
   "metadata": {},
   "outputs": [],
   "source": [
    "make_document('Depth4_ewt', get_info, best_cases)"
   ]
  },
  {
   "cell_type": "code",
   "execution_count": null,
   "metadata": {},
   "outputs": [],
   "source": []
  }
 ],
 "metadata": {
  "kernelspec": {
   "display_name": "mathpy",
   "language": "python",
   "name": "python3"
  },
  "language_info": {
   "codemirror_mode": {
    "name": "ipython",
    "version": 3
   },
   "file_extension": ".py",
   "mimetype": "text/x-python",
   "name": "python",
   "nbconvert_exporter": "python",
   "pygments_lexer": "ipython3",
   "version": "3.12.0"
  }
 },
 "nbformat": 4,
 "nbformat_minor": 2
}
